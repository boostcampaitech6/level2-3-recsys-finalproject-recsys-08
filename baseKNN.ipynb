{
 "cells": [
  {
   "cell_type": "code",
   "execution_count": 1,
   "metadata": {},
   "outputs": [
    {
     "data": {
      "text/plain": [
       "'1.12.1+cu113'"
      ]
     },
     "execution_count": 1,
     "metadata": {},
     "output_type": "execute_result"
    }
   ],
   "source": [
    "import torch\n",
    "import json\n",
    "import pandas as pd\n",
    "import numpy as np\n",
    "\n",
    "torch.__version__"
   ]
  },
  {
   "cell_type": "code",
   "execution_count": 2,
   "metadata": {},
   "outputs": [
    {
     "data": {
      "text/plain": [
       "True"
      ]
     },
     "execution_count": 2,
     "metadata": {},
     "output_type": "execute_result"
    }
   ],
   "source": [
    "torch.cuda.is_available()"
   ]
  },
  {
   "cell_type": "code",
   "execution_count": 5,
   "metadata": {},
   "outputs": [],
   "source": [
    "FILE = 'arxiv-metadata-oai-snapshot.json'\n",
    "\n",
    "def get_data():\n",
    "    with open(FILE) as f:\n",
    "        for line in f:\n",
    "            yield line"
   ]
  },
  {
   "cell_type": "markdown",
   "metadata": {},
   "source": [
    "### TODO: dataframe에 JSON LOAD Columns 모두 추가해서 csv 저장"
   ]
  },
  {
   "cell_type": "code",
   "execution_count": 6,
   "metadata": {},
   "outputs": [],
   "source": [
    "dataframe = {\n",
    "    'title': [],\n",
    "    'year': [],\n",
    "    'abstract': []\n",
    "}\n",
    "\n",
    "data = get_data()\n",
    "for i, paper in enumerate(data):\n",
    "    paper = json.loads(paper)\n",
    "    # print(paper)\n",
    "    # break\n",
    "    try:\n",
    "        date = int(paper['update_date'].split('-')[0])\n",
    "        if date > 2019:\n",
    "            dataframe['title'].append(paper['title'])\n",
    "            dataframe['year'].append(date)\n",
    "            dataframe['abstract'].append(paper['abstract'])\n",
    "    except: pass"
   ]
  },
  {
   "cell_type": "markdown",
   "metadata": {},
   "source": [
    "데이터 너무 많음 -> cs 관련?\n",
    "인용수 -> 적은 애들 neg sample로 사용 가능\n",
    "\n",
    "graph -> 인접행렬"
   ]
  },
  {
   "cell_type": "code",
   "execution_count": 7,
   "metadata": {},
   "outputs": [],
   "source": [
    "df = pd.DataFrame(dataframe)"
   ]
  },
  {
   "cell_type": "code",
   "execution_count": 8,
   "metadata": {},
   "outputs": [],
   "source": [
    "del dataframe"
   ]
  },
  {
   "cell_type": "code",
   "execution_count": 8,
   "metadata": {},
   "outputs": [
    {
     "data": {
      "text/html": [
       "<div>\n",
       "<style scoped>\n",
       "    .dataframe tbody tr th:only-of-type {\n",
       "        vertical-align: middle;\n",
       "    }\n",
       "\n",
       "    .dataframe tbody tr th {\n",
       "        vertical-align: top;\n",
       "    }\n",
       "\n",
       "    .dataframe thead th {\n",
       "        text-align: right;\n",
       "    }\n",
       "</style>\n",
       "<table border=\"1\" class=\"dataframe\">\n",
       "  <thead>\n",
       "    <tr style=\"text-align: right;\">\n",
       "      <th></th>\n",
       "      <th>title</th>\n",
       "      <th>year</th>\n",
       "      <th>abstract</th>\n",
       "    </tr>\n",
       "  </thead>\n",
       "  <tbody>\n",
       "    <tr>\n",
       "      <th>0</th>\n",
       "      <td>Convergence of the discrete dipole approximati...</td>\n",
       "      <td>2022</td>\n",
       "      <td>We performed a rigorous theoretical converge...</td>\n",
       "    </tr>\n",
       "    <tr>\n",
       "      <th>1</th>\n",
       "      <td>The discrete dipole approximation: an overview...</td>\n",
       "      <td>2022</td>\n",
       "      <td>We present a review of the discrete dipole a...</td>\n",
       "    </tr>\n",
       "    <tr>\n",
       "      <th>2</th>\n",
       "      <td>Mapping radii of metric spaces</td>\n",
       "      <td>2021</td>\n",
       "      <td>It is known that every closed curve of lengt...</td>\n",
       "    </tr>\n",
       "    <tr>\n",
       "      <th>3</th>\n",
       "      <td>What can emission lines tell us?</td>\n",
       "      <td>2023</td>\n",
       "      <td>1 Generalities\\n  2 Empirical diagnostics ba...</td>\n",
       "    </tr>\n",
       "    <tr>\n",
       "      <th>4</th>\n",
       "      <td>The affine part of the Picard scheme</td>\n",
       "      <td>2021</td>\n",
       "      <td>We describe the maximal torus and maximal un...</td>\n",
       "    </tr>\n",
       "    <tr>\n",
       "      <th>...</th>\n",
       "      <td>...</td>\n",
       "      <td>...</td>\n",
       "      <td>...</td>\n",
       "    </tr>\n",
       "    <tr>\n",
       "      <th>886395</th>\n",
       "      <td>The Hamiltonian structure of the dispersionles...</td>\n",
       "      <td>2020</td>\n",
       "      <td>The Hamiltonian structure of the two-dimensi...</td>\n",
       "    </tr>\n",
       "    <tr>\n",
       "      <th>886396</th>\n",
       "      <td>DNA Transcription Mechanism with a Moving Enzyme</td>\n",
       "      <td>2021</td>\n",
       "      <td>Previous numerical investigations of an one-...</td>\n",
       "    </tr>\n",
       "    <tr>\n",
       "      <th>886397</th>\n",
       "      <td>Degenerate Frobenius manifolds and the bi-Hami...</td>\n",
       "      <td>2020</td>\n",
       "      <td>The bi-Hamiltonian structure of certain mult...</td>\n",
       "    </tr>\n",
       "    <tr>\n",
       "      <th>886398</th>\n",
       "      <td>Hypercomplex Integrable Systems</td>\n",
       "      <td>2020</td>\n",
       "      <td>In this paper we study hypercomplex manifold...</td>\n",
       "    </tr>\n",
       "    <tr>\n",
       "      <th>886399</th>\n",
       "      <td>Nonlinear Flux Diffusion and ac Susceptibility...</td>\n",
       "      <td>2022</td>\n",
       "      <td>The ac response of a slab of material with e...</td>\n",
       "    </tr>\n",
       "  </tbody>\n",
       "</table>\n",
       "<p>886400 rows × 3 columns</p>\n",
       "</div>"
      ],
      "text/plain": [
       "                                                    title  year  \\\n",
       "0       Convergence of the discrete dipole approximati...  2022   \n",
       "1       The discrete dipole approximation: an overview...  2022   \n",
       "2                          Mapping radii of metric spaces  2021   \n",
       "3                        What can emission lines tell us?  2023   \n",
       "4                    The affine part of the Picard scheme  2021   \n",
       "...                                                   ...   ...   \n",
       "886395  The Hamiltonian structure of the dispersionles...  2020   \n",
       "886396   DNA Transcription Mechanism with a Moving Enzyme  2021   \n",
       "886397  Degenerate Frobenius manifolds and the bi-Hami...  2020   \n",
       "886398                    Hypercomplex Integrable Systems  2020   \n",
       "886399  Nonlinear Flux Diffusion and ac Susceptibility...  2022   \n",
       "\n",
       "                                                 abstract  \n",
       "0         We performed a rigorous theoretical converge...  \n",
       "1         We present a review of the discrete dipole a...  \n",
       "2         It is known that every closed curve of lengt...  \n",
       "3         1 Generalities\\n  2 Empirical diagnostics ba...  \n",
       "4         We describe the maximal torus and maximal un...  \n",
       "...                                                   ...  \n",
       "886395    The Hamiltonian structure of the two-dimensi...  \n",
       "886396    Previous numerical investigations of an one-...  \n",
       "886397    The bi-Hamiltonian structure of certain mult...  \n",
       "886398    In this paper we study hypercomplex manifold...  \n",
       "886399    The ac response of a slab of material with e...  \n",
       "\n",
       "[886400 rows x 3 columns]"
      ]
     },
     "execution_count": 8,
     "metadata": {},
     "output_type": "execute_result"
    }
   ],
   "source": [
    "df"
   ]
  },
  {
   "cell_type": "code",
   "execution_count": 9,
   "metadata": {},
   "outputs": [
    {
     "data": {
      "text/plain": [
       "5089"
      ]
     },
     "execution_count": 9,
     "metadata": {},
     "output_type": "execute_result"
    }
   ],
   "source": [
    "max([len(i) for i in df.abstract])"
   ]
  },
  {
   "cell_type": "code",
   "execution_count": 10,
   "metadata": {},
   "outputs": [
    {
     "data": {
      "application/vnd.jupyter.widget-view+json": {
       "model_id": "5353c6bcb7654625a758fd42e941d72d",
       "version_major": 2,
       "version_minor": 0
      },
      "text/plain": [
       "Fetching 22 files:   0%|          | 0/22 [00:00<?, ?it/s]"
      ]
     },
     "metadata": {},
     "output_type": "display_data"
    },
    {
     "name": "stdout",
     "output_type": "stream",
     "text": [
      "loading existing colbert_linear and sparse_linear---------\n"
     ]
    }
   ],
   "source": [
    "from FlagEmbedding import BGEM3FlagModel\n",
    "\n",
    "model = BGEM3FlagModel('BAAI/bge-m3',  \n",
    "                       use_fp16=True) # Setting use_fp16 to True speeds up computation with a slight performance degradation"
   ]
  },
  {
   "cell_type": "code",
   "execution_count": 11,
   "metadata": {},
   "outputs": [
    {
     "name": "stderr",
     "output_type": "stream",
     "text": [
      "Inference Embeddings: 100%|██████████| 73867/73867 [1:57:03<00:00, 10.52it/s]  \n"
     ]
    }
   ],
   "source": [
    "# 두 시간 걸리니 참고만 하셈\n",
    "output = model.encode(list(df.abstract),\n",
    "                      batch_size=12, \n",
    "                      max_length=5090, # If you don't need such a long length, you can set a smaller value to speed up the encoding process.\n",
    "                      )['dense_vecs']"
   ]
  },
  {
   "cell_type": "code",
   "execution_count": 12,
   "metadata": {},
   "outputs": [],
   "source": [
    "emb_df = pd.DataFrame(output)"
   ]
  },
  {
   "cell_type": "code",
   "execution_count": 13,
   "metadata": {},
   "outputs": [],
   "source": [
    "emb_df.to_csv('embedding.csv', index=False)"
   ]
  },
  {
   "cell_type": "markdown",
   "metadata": {},
   "source": [
    "# Inference"
   ]
  },
  {
   "cell_type": "code",
   "execution_count": 2,
   "metadata": {},
   "outputs": [],
   "source": [
    "output = pd.read_csv('embedding.csv').to_numpy()"
   ]
  },
  {
   "cell_type": "code",
   "execution_count": 3,
   "metadata": {},
   "outputs": [],
   "source": [
    "from sklearn.neighbors import KNeighborsClassifier"
   ]
  },
  {
   "cell_type": "code",
   "execution_count": 9,
   "metadata": {},
   "outputs": [],
   "source": [
    "y = df.index"
   ]
  },
  {
   "cell_type": "code",
   "execution_count": 10,
   "metadata": {},
   "outputs": [
    {
     "data": {
      "text/html": [
       "<style>#sk-container-id-1 {color: black;}#sk-container-id-1 pre{padding: 0;}#sk-container-id-1 div.sk-toggleable {background-color: white;}#sk-container-id-1 label.sk-toggleable__label {cursor: pointer;display: block;width: 100%;margin-bottom: 0;padding: 0.3em;box-sizing: border-box;text-align: center;}#sk-container-id-1 label.sk-toggleable__label-arrow:before {content: \"▸\";float: left;margin-right: 0.25em;color: #696969;}#sk-container-id-1 label.sk-toggleable__label-arrow:hover:before {color: black;}#sk-container-id-1 div.sk-estimator:hover label.sk-toggleable__label-arrow:before {color: black;}#sk-container-id-1 div.sk-toggleable__content {max-height: 0;max-width: 0;overflow: hidden;text-align: left;background-color: #f0f8ff;}#sk-container-id-1 div.sk-toggleable__content pre {margin: 0.2em;color: black;border-radius: 0.25em;background-color: #f0f8ff;}#sk-container-id-1 input.sk-toggleable__control:checked~div.sk-toggleable__content {max-height: 200px;max-width: 100%;overflow: auto;}#sk-container-id-1 input.sk-toggleable__control:checked~label.sk-toggleable__label-arrow:before {content: \"▾\";}#sk-container-id-1 div.sk-estimator input.sk-toggleable__control:checked~label.sk-toggleable__label {background-color: #d4ebff;}#sk-container-id-1 div.sk-label input.sk-toggleable__control:checked~label.sk-toggleable__label {background-color: #d4ebff;}#sk-container-id-1 input.sk-hidden--visually {border: 0;clip: rect(1px 1px 1px 1px);clip: rect(1px, 1px, 1px, 1px);height: 1px;margin: -1px;overflow: hidden;padding: 0;position: absolute;width: 1px;}#sk-container-id-1 div.sk-estimator {font-family: monospace;background-color: #f0f8ff;border: 1px dotted black;border-radius: 0.25em;box-sizing: border-box;margin-bottom: 0.5em;}#sk-container-id-1 div.sk-estimator:hover {background-color: #d4ebff;}#sk-container-id-1 div.sk-parallel-item::after {content: \"\";width: 100%;border-bottom: 1px solid gray;flex-grow: 1;}#sk-container-id-1 div.sk-label:hover label.sk-toggleable__label {background-color: #d4ebff;}#sk-container-id-1 div.sk-serial::before {content: \"\";position: absolute;border-left: 1px solid gray;box-sizing: border-box;top: 0;bottom: 0;left: 50%;z-index: 0;}#sk-container-id-1 div.sk-serial {display: flex;flex-direction: column;align-items: center;background-color: white;padding-right: 0.2em;padding-left: 0.2em;position: relative;}#sk-container-id-1 div.sk-item {position: relative;z-index: 1;}#sk-container-id-1 div.sk-parallel {display: flex;align-items: stretch;justify-content: center;background-color: white;position: relative;}#sk-container-id-1 div.sk-item::before, #sk-container-id-1 div.sk-parallel-item::before {content: \"\";position: absolute;border-left: 1px solid gray;box-sizing: border-box;top: 0;bottom: 0;left: 50%;z-index: -1;}#sk-container-id-1 div.sk-parallel-item {display: flex;flex-direction: column;z-index: 1;position: relative;background-color: white;}#sk-container-id-1 div.sk-parallel-item:first-child::after {align-self: flex-end;width: 50%;}#sk-container-id-1 div.sk-parallel-item:last-child::after {align-self: flex-start;width: 50%;}#sk-container-id-1 div.sk-parallel-item:only-child::after {width: 0;}#sk-container-id-1 div.sk-dashed-wrapped {border: 1px dashed gray;margin: 0 0.4em 0.5em 0.4em;box-sizing: border-box;padding-bottom: 0.4em;background-color: white;}#sk-container-id-1 div.sk-label label {font-family: monospace;font-weight: bold;display: inline-block;line-height: 1.2em;}#sk-container-id-1 div.sk-label-container {text-align: center;}#sk-container-id-1 div.sk-container {/* jupyter's `normalize.less` sets `[hidden] { display: none; }` but bootstrap.min.css set `[hidden] { display: none !important; }` so we also need the `!important` here to be able to override the default hidden behavior on the sphinx rendered scikit-learn.org. See: https://github.com/scikit-learn/scikit-learn/issues/21755 */display: inline-block !important;position: relative;}#sk-container-id-1 div.sk-text-repr-fallback {display: none;}</style><div id=\"sk-container-id-1\" class=\"sk-top-container\"><div class=\"sk-text-repr-fallback\"><pre>KNeighborsClassifier(n_neighbors=6)</pre><b>In a Jupyter environment, please rerun this cell to show the HTML representation or trust the notebook. <br />On GitHub, the HTML representation is unable to render, please try loading this page with nbviewer.org.</b></div><div class=\"sk-container\" hidden><div class=\"sk-item\"><div class=\"sk-estimator sk-toggleable\"><input class=\"sk-toggleable__control sk-hidden--visually\" id=\"sk-estimator-id-1\" type=\"checkbox\" checked><label for=\"sk-estimator-id-1\" class=\"sk-toggleable__label sk-toggleable__label-arrow\">KNeighborsClassifier</label><div class=\"sk-toggleable__content\"><pre>KNeighborsClassifier(n_neighbors=6)</pre></div></div></div></div></div>"
      ],
      "text/plain": [
       "KNeighborsClassifier(n_neighbors=6)"
      ]
     },
     "execution_count": 10,
     "metadata": {},
     "output_type": "execute_result"
    }
   ],
   "source": [
    "nn = KNeighborsClassifier(n_neighbors=6)\n",
    "nn.fit(output, y)"
   ]
  },
  {
   "cell_type": "code",
   "execution_count": 11,
   "metadata": {},
   "outputs": [],
   "source": [
    "import random"
   ]
  },
  {
   "cell_type": "markdown",
   "metadata": {},
   "source": [
    "맨처음 시나리오 있으면 좋겠다."
   ]
  },
  {
   "cell_type": "code",
   "execution_count": 12,
   "metadata": {},
   "outputs": [
    {
     "name": "stdout",
     "output_type": "stream",
     "text": [
      "Sample:\n",
      "Machine learning Majorana nanowire disorder landscape\n",
      "\n",
      "Recommendation 1:\n",
      "Density of states, transport, and topology in disordered Majorana\n",
      "  nanowires\n",
      "\n",
      "Recommendation 2:\n",
      "Deep neural networks for inverse problems in mesoscopic physics:\n",
      "  Characterization of the disorder configuration from quantum transport\n",
      "  properties\n",
      "\n",
      "Recommendation 3:\n",
      "Ballistic Majorana nanowire devices\n",
      "\n",
      "Recommendation 4:\n",
      "Crossover between trivial zero modes in Majorana nanowires\n",
      "\n",
      "Recommendation 5:\n",
      "Decoding the DC and optical conductivities of disordered MoS$_{2}$\n",
      "  films: an inverse problem\n",
      "\n",
      "===============\n",
      "\n",
      "Sample:\n",
      "Geodesic completeness of the $H^{3/2}$ metric on $\\mathrm{Diff}(S^{1})$\n",
      "\n",
      "Recommendation 1:\n",
      "Completeness and geodesic distance properties for fractional Sobolev\n",
      "  metrics on spaces of immersed curves\n",
      "\n",
      "Recommendation 2:\n",
      "Fractional Sobolev metrics on spaces of immersions\n",
      "\n",
      "Recommendation 3:\n",
      "An Example of Banach and Hilbert manifold: the universal Teichm\\\"uller\n",
      "  space\n",
      "\n",
      "Recommendation 4:\n",
      "Semi-invariant Riemannian metrics in hydrodynamics\n",
      "\n",
      "Recommendation 5:\n",
      "Critical Sets of Solutions of Elliptic Equations in Periodic\n",
      "  Homogenization\n",
      "\n",
      "===============\n",
      "\n",
      "Sample:\n",
      "RooHammerModel: interfacing the HAMMER software tool with the\n",
      "  HistFactory package\n",
      "\n",
      "Recommendation 1:\n",
      "Das ist der HAMMER: Consistent new physics interpretations of\n",
      "  semileptonic decays\n",
      "\n",
      "Recommendation 2:\n",
      "The R Package BHAM: Fast and Scalable Bayesian Hierarchical Additive\n",
      "  Model for High-dimensional Data\n",
      "\n",
      "Recommendation 3:\n",
      "ebnm: An R Package for Solving the Empirical Bayes Normal Means Problem\n",
      "  Using a Variety of Prior Families\n",
      "\n",
      "Recommendation 4:\n",
      "Global fits of the MSSM with GAMBIT\n",
      "\n",
      "Recommendation 5:\n",
      "hmmTMB: Hidden Markov models with flexible covariate effects in R\n",
      "\n",
      "===============\n",
      "\n",
      "Sample:\n",
      "Hyper Resolution Two Photon Direct Laser Writing using ENZ Nano-Cavity\n",
      "\n",
      "Recommendation 1:\n",
      "Formation of Highly Tunable Periodic Plasmonic Structures on Gold Films\n",
      "  Using Direct Laser Writing\n",
      "\n",
      "Recommendation 2:\n",
      "Super-resolution imaging and microscopy by dielectric particle-lenses\n",
      "\n",
      "Recommendation 3:\n",
      "3D printed hybrid refractive/diffractive achromat and apochromat for the\n",
      "  visible wavelength range\n",
      "\n",
      "Recommendation 4:\n",
      "Machine learning -- based diffractive imaging with subwavelength\n",
      "  resolution\n",
      "\n",
      "Recommendation 5:\n",
      "Pushing the feature size down to 11 nm by interference photolithography\n",
      "  with hyperbolic metamaterials under conventional UV light source\n",
      "\n",
      "===============\n",
      "\n",
      "Sample:\n",
      "Dynamic Handover: Throw and Catch with Bimanual Hands\n",
      "\n",
      "Recommendation 1:\n",
      "Human Grasp Classification for Reactive Human-to-Robot Handovers\n",
      "\n",
      "Recommendation 2:\n",
      "Robot to Human Object Handover using Vision and Joint Torque Sensor\n",
      "  Modalities\n",
      "\n",
      "Recommendation 3:\n",
      "Flexible Handover with Real-Time Robust Dynamic Grasp Trajectory\n",
      "  Generation\n",
      "\n",
      "Recommendation 4:\n",
      "Reactive Human-to-Robot Handovers of Arbitrary Objects\n",
      "\n",
      "Recommendation 5:\n",
      "Simultaneous Multi-View Object Recognition and Grasping in Open-Ended\n",
      "  Domains\n",
      "\n",
      "===============\n",
      "\n"
     ]
    }
   ],
   "source": [
    "for _ in range(5):\n",
    "    idx = random.randint(0, len(y))\n",
    "    sample = df[\"title\"][idx]\n",
    "    dist, index = nn.kneighbors(X=output[idx,:].reshape(1,-1))\n",
    "    print(f\"Sample:\\n{sample}\\n\")\n",
    "    for i in range(1,6):\n",
    "        print(f\"Recommendation {i}:\\n{df['title'][index[0][i]]}\\n\")\n",
    "    print(\"===============\\n\")"
   ]
  }
 ],
 "metadata": {
  "kernelspec": {
   "display_name": "Python 3",
   "language": "python",
   "name": "python3"
  },
  "language_info": {
   "codemirror_mode": {
    "name": "ipython",
    "version": 3
   },
   "file_extension": ".py",
   "mimetype": "text/x-python",
   "name": "python",
   "nbconvert_exporter": "python",
   "pygments_lexer": "ipython3",
   "version": "3.8.10"
  }
 },
 "nbformat": 4,
 "nbformat_minor": 2
}

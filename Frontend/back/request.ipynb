{
 "cells": [
  {
   "cell_type": "code",
   "execution_count": 1,
   "metadata": {},
   "outputs": [],
   "source": [
    "import requests"
   ]
  },
  {
   "cell_type": "code",
   "execution_count": 6,
   "metadata": {},
   "outputs": [],
   "source": [
    "data = requests.get(\"http://223.130.141.170:8000/api/data/get_chatbot\")"
   ]
  },
  {
   "cell_type": "code",
   "execution_count": 7,
   "metadata": {},
   "outputs": [
    {
     "data": {
      "text/plain": [
       "b'{\"answer\":\"The text discusses the comparison between the original Collins-Soper-Sterman (CSS) resummation scheme and the CFG scheme in the context of prompt diphoton production cross sections at Tevatron and LHC energies. It highlights differences in the B and C functions, the inclusion of universal B and C depending on the type of ident, and the numerical smallness of differences between the schemes in production. The NLO expansion of the spin-flip resummed cross section generates terms proportional to \\xce\\xa3g(\\xce\\xb8\\xe2\\x88\\x97, \\xcf\\x95\\xe2\\x88\\x97) \\xe2\\x88\\x9d cos 2\\xcf\\x95. Resummation is crucial for predicting distributions in production and estimating the effects of physical QT experimental acceptance (Bal0704 pages 9-10, Bal0704 pages 5-6, Bal0704 pages 3-4).\",\"Reference\":\"(Bal0704 pages 9-10): Bal\\xc3\\xa1zs, C., et al. \\\\\"Calculation of prompt diphoton production cross sections at Tevatron and LHC energies.\\\\\" ANL-HEP-PR-07-12, arXiv:0704.0001, 3 May 2007. 2. (Bal0704 pages 5-6): Bal\\xc3\\xa1zs, C., et al. \\\\\"Calculation of prompt diphoton production cross sections at Tevatron and LHC energies.\\\\\" ANL-HEP-PR-07-12, arXiv:0704.0001, 3 May 2007. 3. (Bal0704 pages 3-4): Bal\\xc3\\xa1zs, C., et al. \\\\\"Calculation of prompt diphoton production cross sections at Tevatron and LHC energies.\\\\\" ANL-HEP-PR-07-12, arXiv:0704.0001, 3 May 2007.\"}'"
      ]
     },
     "execution_count": 7,
     "metadata": {},
     "output_type": "execute_result"
    }
   ],
   "source": [
    "data.content"
   ]
  },
  {
   "cell_type": "code",
   "execution_count": 4,
   "metadata": {},
   "outputs": [],
   "source": [
    "data = [{'id': 'asdf','title': 'asdf'}, {}]"
   ]
  },
  {
   "cell_type": "code",
   "execution_count": 2,
   "metadata": {},
   "outputs": [],
   "source": [
    "import requests\n",
    "\n",
    "def get_requests(paper_id : str, query : str) : \n",
    "\n",
    "# AI 서버의 URL\n",
    "    url = \"http://223.130.162.53:8000/predict\"\n",
    "\n",
    "    # 요청할 데이터\n",
    "    data = {\"paper_id\": paper_id, \"query\": query}\n",
    "\n",
    "    # AI 서버에게 POST 요청을 보냅니다.\n",
    "    response = requests.post(url, json = data)\n",
    "\n",
    "    # AI 서버로부터 받은 응답을 출력합니다.\n",
    "    return response.json()"
   ]
  }
 ],
 "metadata": {
  "kernelspec": {
   "display_name": "Python 3",
   "language": "python",
   "name": "python3"
  },
  "language_info": {
   "codemirror_mode": {
    "name": "ipython",
    "version": 3
   },
   "file_extension": ".py",
   "mimetype": "text/x-python",
   "name": "python",
   "nbconvert_exporter": "python",
   "pygments_lexer": "ipython3",
   "version": "3.8.10"
  }
 },
 "nbformat": 4,
 "nbformat_minor": 2
}

{
 "cells": [
  {
   "cell_type": "code",
   "execution_count": 1,
   "metadata": {},
   "outputs": [
    {
     "name": "stdout",
     "output_type": "stream",
     "text": [
      "              id                                         embeddings\n",
      "0     1609.04741  [-0.6698794364929199, -0.4727935194969177, 0.2...\n",
      "1     1703.07738  [-0.2581411302089691, -0.012778624892234802, -...\n",
      "2     1706.03762  [-0.5425103902816772, 0.18396970629692078, -0....\n",
      "3     1710.08969  [-0.41298601031303406, 0.5831630229949951, -0....\n",
      "4     1711.06149  [-0.7896791696548462, 0.07237350940704346, -0....\n",
      "...          ...                                                ...\n",
      "4064  2402.09329  [-0.4379268288612366, -0.23558062314987183, -0...\n",
      "4065  2402.09812  [-0.6690561771392822, -0.07181265950202942, -0...\n",
      "4066  2402.11639  [-0.7059850692749023, -0.26324883103370667, -0...\n",
      "4067  2402.13512  [-0.5639562606811523, -0.09524745494127274, -0...\n",
      "4068  2402.17417  [-0.6053261756896973, -0.2860853970050812, -0....\n",
      "\n",
      "[4069 rows x 2 columns]\n",
      "변환된 텐서:\n",
      "tensor([-0.6699, -0.4728,  0.2280,  ..., -0.2286, -0.6570,  0.6681])\n"
     ]
    }
   ],
   "source": [
    "import pandas as pd\n",
    "import torch\n",
    "\n",
    "data = pd.read_csv('embedding.csv')\n",
    "print(data)\n",
    "series_data = data.embeddings[0]\n",
    "number_list = [float(num_str) for num_str in series_data.strip('[]').split(',')]\n",
    "\n",
    "# 리스트를 PyTorch 텐서로 변환\n",
    "tensor_data = torch.tensor(number_list)\n",
    "\n",
    "print(\"변환된 텐서:\")\n",
    "print(tensor_data)"
   ]
  },
  {
   "cell_type": "code",
   "execution_count": 30,
   "metadata": {},
   "outputs": [],
   "source": [
    "import csv\n",
    "import ast\n",
    "import numpy as np\n",
    "from sklearn.metrics.pairwise import cosine_similarity\n",
    "\n",
    "# 전역 변수로 데이터를 저장할 딕셔너리\n",
    "vectors = {}\n",
    "\n",
    "def parse_csv(file_path):\n",
    "    global vectors\n",
    "    with open(file_path, newline='') as csvfile:\n",
    "        reader = csv.DictReader(csvfile)\n",
    "        for row in reader:\n",
    "            id = row['id']\n",
    "            vector_str = row['embeddings']\n",
    "            vector = ast.literal_eval(vector_str)\n",
    "            vectors[id] = vector\n",
    "\n",
    "def compute_similarity(base_ids):\n",
    "    similarity_results = []\n",
    "    for base_id in base_ids:\n",
    "        base_vector = np.array([vectors[base_id]])\n",
    "        for id, vector in vectors.items():\n",
    "            if id != base_id:\n",
    "                similarity = cosine_similarity(base_vector, [np.array(vector)])[0][0]\n",
    "                similarity_results.append({'source': id, 'target': base_id, 'distance': similarity})\n",
    "    return similarity_results\n",
    "\n",
    "def get_top_similarity_results(similarity_results, top_n=5):\n",
    "    similarity_results = sorted(similarity_results, key=lambda x: x['similarity'], reverse=True)\n",
    "    return similarity_results[:top_n]\n",
    "\n",
    "# CSV 파일에서 데이터 파싱\n",
    "file_path = 'embedding.csv'\n",
    "parse_csv(file_path)\n"
   ]
  },
  {
   "cell_type": "code",
   "execution_count": 31,
   "metadata": {},
   "outputs": [
    {
     "name": "stdout",
     "output_type": "stream",
     "text": [
      "Top 5 similarities for base ID 1609.04741:\n",
      "{'from': '2105.03891', 'to': '1609.04741', 'similarity': 0.7967764055095873}\n",
      "{'from': '2102.06361', 'to': '1609.04741', 'similarity': 0.7796217906946868}\n",
      "{'from': '2005.08665', 'to': '1609.04741', 'similarity': 0.7540322177135702}\n",
      "{'from': '2301.03634', 'to': '1609.04741', 'similarity': 0.7500096755111593}\n",
      "{'from': '2103.16273', 'to': '1609.04741', 'similarity': 0.7476865946495533}\n",
      "Top 5 similarities for base ID 1703.07738:\n",
      "{'from': '2008.04378', 'to': '1703.07738', 'similarity': 0.6856879431382494}\n",
      "{'from': '2101.08967', 'to': '1703.07738', 'similarity': 0.669291005697058}\n",
      "{'from': '2010.00516', 'to': '1703.07738', 'similarity': 0.6687917998791476}\n",
      "{'from': '2004.13621', 'to': '1703.07738', 'similarity': 0.668282168170491}\n",
      "{'from': '2005.0665', 'to': '1703.07738', 'similarity': 0.6627738646226708}\n",
      "Top 5 similarities for base ID 1806.05382:\n",
      "{'from': '2306.01526', 'to': '1806.05382', 'similarity': 0.8868579787302365}\n",
      "{'from': '2011.03891', 'to': '1806.05382', 'similarity': 0.8562002713592036}\n",
      "{'from': '2112.10481', 'to': '1806.05382', 'similarity': 0.8542720670209276}\n",
      "{'from': '2302.04368', 'to': '1806.05382', 'similarity': 0.8526240282440782}\n",
      "{'from': '2006.11487', 'to': '1806.05382', 'similarity': 0.8505263314488972}\n"
     ]
    }
   ],
   "source": [
    "# 기준이 되는 여러 ID\n",
    "base_ids = ['1609.04741', '1703.07738', '1806.05382']\n",
    "\n",
    "top_5_results = {}\n",
    "for base_id in base_ids:\n",
    "    similarity_results = compute_similarity([base_id])\n",
    "    top_5_results[base_id] = get_top_similarity_results(similarity_results)\n",
    "\n",
    "# 결과 출력\n",
    "results = []\n",
    "for base_id, top_5 in top_5_results.items():\n",
    "    print(f\"Top 5 similarities for base ID {base_id}:\")\n",
    "    for result in top_5:\n",
    "        print(result)\n",
    "        results.append(result)"
   ]
  },
  {
   "cell_type": "code",
   "execution_count": 29,
   "metadata": {},
   "outputs": [
    {
     "data": {
      "text/plain": [
       "[{'from': '1609.04741', 'to': '2105.03891', 'similarity': 0.7967764055095873},\n",
       " {'from': '1609.04741', 'to': '2102.06361', 'similarity': 0.7796217906946868},\n",
       " {'from': '1609.04741', 'to': '2005.08665', 'similarity': 0.7540322177135702},\n",
       " {'from': '1609.04741', 'to': '2301.03634', 'similarity': 0.7500096755111593},\n",
       " {'from': '1609.04741', 'to': '2103.16273', 'similarity': 0.7476865946495533},\n",
       " {'from': '1703.07738', 'to': '2008.04378', 'similarity': 0.6856879431382494},\n",
       " {'from': '1703.07738', 'to': '2101.08967', 'similarity': 0.669291005697058},\n",
       " {'from': '1703.07738', 'to': '2010.00516', 'similarity': 0.6687917998791476},\n",
       " {'from': '1703.07738', 'to': '2004.13621', 'similarity': 0.668282168170491},\n",
       " {'from': '1703.07738', 'to': '2005.0665', 'similarity': 0.6627738646226708},\n",
       " {'from': '1806.05382', 'to': '2306.01526', 'similarity': 0.8868579787302365},\n",
       " {'from': '1806.05382', 'to': '2011.03891', 'similarity': 0.8562002713592036},\n",
       " {'from': '1806.05382', 'to': '2112.10481', 'similarity': 0.8542720670209276},\n",
       " {'from': '1806.05382', 'to': '2302.04368', 'similarity': 0.8526240282440782},\n",
       " {'from': '1806.05382', 'to': '2006.11487', 'similarity': 0.8505263314488972}]"
      ]
     },
     "execution_count": 29,
     "metadata": {},
     "output_type": "execute_result"
    }
   ],
   "source": [
    "results"
   ]
  }
 ],
 "metadata": {
  "kernelspec": {
   "display_name": "Python 3",
   "language": "python",
   "name": "python3"
  },
  "language_info": {
   "codemirror_mode": {
    "name": "ipython",
    "version": 3
   },
   "file_extension": ".py",
   "mimetype": "text/x-python",
   "name": "python",
   "nbconvert_exporter": "python",
   "pygments_lexer": "ipython3",
   "version": "3.8.10"
  }
 },
 "nbformat": 4,
 "nbformat_minor": 2
}
